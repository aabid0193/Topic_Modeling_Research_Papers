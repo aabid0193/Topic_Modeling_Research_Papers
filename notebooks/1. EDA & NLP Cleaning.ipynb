{
 "cells": [
  {
   "cell_type": "code",
   "execution_count": null,
   "metadata": {},
   "outputs": [],
   "source": [
    "import pandas as pd\n",
    "import seaborn as sns\n",
    "import numpy as np\n",
    "import matplotlib.pyplot as plt\n",
    "import sqlite3\n",
    "import re\n",
    "%run functions.py\n",
    "import pickle\n",
    "\n",
    "import matplotlib.patches as mpatches\n",
    "from sklearn.preprocessing import StandardScaler\n",
    "from sklearn.feature_extraction.text import CountVectorizer, TfidfVectorizer\n",
    "from sklearn.cluster import KMeans\n",
    "from sklearn.decomposition import NMF\n",
    "from sklearn.manifold import TSNE\n",
    "from sklearn.decomposition import NMF, LatentDirichletAllocation, PCA\n",
    "\n",
    "from sklearn.mixture import GMM\n",
    "from sklearn import mixture\n",
    "from sklearn.mixture import GaussianMixture\n",
    "\n",
    "from nltk import word_tokenize, sent_tokenize\n",
    "from nltk.stem import SnowballStemmer, PorterStemmer\n",
    "\n",
    "from gensim.matutils import Sparse2Corpus\n",
    "from gensim import models\n",
    "\n",
    "%matplotlib inline\n",
    "\n",
    "import matplotlib.gridspec as gridspec\n",
    "\n",
    "from subprocess import check_output\n",
    "\n",
    "from wordcloud import WordCloud,STOPWORDS\n",
    "\n",
    "import warnings\n",
    "warnings.filterwarnings(\"ignore\")"
   ]
  },
  {
   "cell_type": "code",
   "execution_count": 2,
   "metadata": {},
   "outputs": [],
   "source": [
    "cn = sqlite3.connect('../database.sqlite')"
   ]
  },
  {
   "cell_type": "markdown",
   "metadata": {},
   "source": [
    "### Create dataframe with column for paper_text which will be used for NLP Analysis"
   ]
  },
  {
   "cell_type": "code",
   "execution_count": 9,
   "metadata": {},
   "outputs": [],
   "source": [
    "df = pd.read_sql_query('''SELECT papers.id AS id, year, title, pdf_name, abstract, paper_text, author_id, name \n",
    "AS author FROM papers JOIN paper_authors ON paper_authors.paper_id = papers.id\n",
    "JOIN authors ON authors.id = paper_authors.author_id ORDER BY papers.id''', cn)"
   ]
  },
  {
   "cell_type": "code",
   "execution_count": 13,
   "metadata": {},
   "outputs": [
    {
     "data": {
      "text/plain": [
       "(20838, 8)"
      ]
     },
     "execution_count": 13,
     "metadata": {},
     "output_type": "execute_result"
    }
   ],
   "source": [
    "df.shape"
   ]
  },
  {
   "cell_type": "code",
   "execution_count": 10,
   "metadata": {},
   "outputs": [
    {
     "data": {
      "text/html": [
       "<div>\n",
       "<style scoped>\n",
       "    .dataframe tbody tr th:only-of-type {\n",
       "        vertical-align: middle;\n",
       "    }\n",
       "\n",
       "    .dataframe tbody tr th {\n",
       "        vertical-align: top;\n",
       "    }\n",
       "\n",
       "    .dataframe thead th {\n",
       "        text-align: right;\n",
       "    }\n",
       "</style>\n",
       "<table border=\"1\" class=\"dataframe\">\n",
       "  <thead>\n",
       "    <tr style=\"text-align: right;\">\n",
       "      <th></th>\n",
       "      <th>id</th>\n",
       "      <th>year</th>\n",
       "      <th>title</th>\n",
       "      <th>pdf_name</th>\n",
       "      <th>abstract</th>\n",
       "      <th>paper_text</th>\n",
       "      <th>author_id</th>\n",
       "      <th>author</th>\n",
       "    </tr>\n",
       "  </thead>\n",
       "  <tbody>\n",
       "    <tr>\n",
       "      <th>0</th>\n",
       "      <td>1</td>\n",
       "      <td>1987</td>\n",
       "      <td>Self-Organization of Associative Database and ...</td>\n",
       "      <td>1-self-organization-of-associative-database-an...</td>\n",
       "      <td>Abstract Missing</td>\n",
       "      <td>767\\n\\nSELF-ORGANIZATION OF ASSOCIATIVE DATABA...</td>\n",
       "      <td>1</td>\n",
       "      <td>Hisashi Suzuki</td>\n",
       "    </tr>\n",
       "    <tr>\n",
       "      <th>1</th>\n",
       "      <td>1</td>\n",
       "      <td>1987</td>\n",
       "      <td>Self-Organization of Associative Database and ...</td>\n",
       "      <td>1-self-organization-of-associative-database-an...</td>\n",
       "      <td>Abstract Missing</td>\n",
       "      <td>767\\n\\nSELF-ORGANIZATION OF ASSOCIATIVE DATABA...</td>\n",
       "      <td>2</td>\n",
       "      <td>Suguru Arimoto</td>\n",
       "    </tr>\n",
       "    <tr>\n",
       "      <th>2</th>\n",
       "      <td>2</td>\n",
       "      <td>1987</td>\n",
       "      <td>The Capacity of the Kanerva Associative Memory...</td>\n",
       "      <td>2-the-capacity-of-the-kanerva-associative-memo...</td>\n",
       "      <td>Abstract Missing</td>\n",
       "      <td>184\\n\\nTHE CAPACITY OF THE KANERVA ASSOCIATIVE...</td>\n",
       "      <td>3</td>\n",
       "      <td>Philip A. Chou</td>\n",
       "    </tr>\n",
       "    <tr>\n",
       "      <th>3</th>\n",
       "      <td>3</td>\n",
       "      <td>1987</td>\n",
       "      <td>Supervised Learning of Probability Distributio...</td>\n",
       "      <td>3-supervised-learning-of-probability-distribut...</td>\n",
       "      <td>Abstract Missing</td>\n",
       "      <td>52\\n\\nSupervised Learning of Probability Distr...</td>\n",
       "      <td>252</td>\n",
       "      <td>Eric B. Baum</td>\n",
       "    </tr>\n",
       "    <tr>\n",
       "      <th>4</th>\n",
       "      <td>3</td>\n",
       "      <td>1987</td>\n",
       "      <td>Supervised Learning of Probability Distributio...</td>\n",
       "      <td>3-supervised-learning-of-probability-distribut...</td>\n",
       "      <td>Abstract Missing</td>\n",
       "      <td>52\\n\\nSupervised Learning of Probability Distr...</td>\n",
       "      <td>7094</td>\n",
       "      <td>Frank Wilczek</td>\n",
       "    </tr>\n",
       "  </tbody>\n",
       "</table>\n",
       "</div>"
      ],
      "text/plain": [
       "   id  year                                              title  \\\n",
       "0   1  1987  Self-Organization of Associative Database and ...   \n",
       "1   1  1987  Self-Organization of Associative Database and ...   \n",
       "2   2  1987  The Capacity of the Kanerva Associative Memory...   \n",
       "3   3  1987  Supervised Learning of Probability Distributio...   \n",
       "4   3  1987  Supervised Learning of Probability Distributio...   \n",
       "\n",
       "                                            pdf_name          abstract  \\\n",
       "0  1-self-organization-of-associative-database-an...  Abstract Missing   \n",
       "1  1-self-organization-of-associative-database-an...  Abstract Missing   \n",
       "2  2-the-capacity-of-the-kanerva-associative-memo...  Abstract Missing   \n",
       "3  3-supervised-learning-of-probability-distribut...  Abstract Missing   \n",
       "4  3-supervised-learning-of-probability-distribut...  Abstract Missing   \n",
       "\n",
       "                                          paper_text  author_id  \\\n",
       "0  767\\n\\nSELF-ORGANIZATION OF ASSOCIATIVE DATABA...          1   \n",
       "1  767\\n\\nSELF-ORGANIZATION OF ASSOCIATIVE DATABA...          2   \n",
       "2  184\\n\\nTHE CAPACITY OF THE KANERVA ASSOCIATIVE...          3   \n",
       "3  52\\n\\nSupervised Learning of Probability Distr...        252   \n",
       "4  52\\n\\nSupervised Learning of Probability Distr...       7094   \n",
       "\n",
       "           author  \n",
       "0  Hisashi Suzuki  \n",
       "1  Suguru Arimoto  \n",
       "2  Philip A. Chou  \n",
       "3    Eric B. Baum  \n",
       "4   Frank Wilczek  "
      ]
     },
     "execution_count": 10,
     "metadata": {},
     "output_type": "execute_result"
    }
   ],
   "source": [
    "df.head()"
   ]
  },
  {
   "cell_type": "markdown",
   "metadata": {},
   "source": [
    "### sqllite used to make df and create chart"
   ]
  },
  {
   "cell_type": "code",
   "execution_count": 6,
   "metadata": {},
   "outputs": [],
   "source": [
    "authors=pd.read_sql_query('SELECT * FROM authors', cn)"
   ]
  },
  {
   "cell_type": "code",
   "execution_count": 8,
   "metadata": {},
   "outputs": [],
   "source": [
    "paper_authors=pd.read_sql_query('''SELECT * FROM paper_authors''', cn)"
   ]
  },
  {
   "cell_type": "code",
   "execution_count": 11,
   "metadata": {},
   "outputs": [],
   "source": [
    "year_counts = pd.read_sql_query('SELECT year, COUNT(*) as num_papers FROM papers GROUP BY year', cn)"
   ]
  },
  {
   "cell_type": "code",
   "execution_count": 16,
   "metadata": {},
   "outputs": [
    {
     "data": {
      "text/plain": [
       "Text(0.5,1,'Highest number of papers published authors')"
      ]
     },
     "execution_count": 16,
     "metadata": {},
     "output_type": "execute_result"
    },
    {
     "data": {
      "text/plain": [
       "<Figure size 432x288 with 0 Axes>"
      ]
     },
     "metadata": {},
     "output_type": "display_data"
    },
    {
     "data": {
      "image/png": "[encoded data removed]",
      "text/plain": [
       "<Figure size 1080x432 with 1 Axes>"
      ]
     },
     "metadata": {},
     "output_type": "display_data"
    }
   ],
   "source": [
    "author_paper_count = paper_authors[[\"author_id\",\"paper_id\"]].groupby(\"author_id\").count().sort_values(by=\"paper_id\",ascending=False).reset_index()\n",
    "author_paper_count = author_paper_count.rename(columns = {'paper_id':'paper_count'})\n",
    "authors_ew = authors.rename(columns = {'id':'author_id'})\n",
    "author_paper_count = pd.merge(author_paper_count, authors_new, on=\"author_id\",how=\"left\")\n",
    "top15_authorsbycount = author_paper_count.iloc[:,1:].head(15)\n",
    "plt.figure()\n",
    "top15_authorsbycount.plot(x=\"name\",y =\"paper_count\", kind='bar', alpha=0.55, figsize=(15,6))\n",
    "plt.title(\"Highest number of papers published authors\")"
   ]
  },
  {
   "cell_type": "markdown",
   "metadata": {},
   "source": [
    "## Store paper_text in mongodb"
   ]
  },
  {
   "cell_type": "code",
   "execution_count": 334,
   "metadata": {},
   "outputs": [],
   "source": [
    "from pymongo import MongoClient\n"
   ]
  },
  {
   "cell_type": "code",
   "execution_count": 335,
   "metadata": {},
   "outputs": [],
   "source": [
    "client = MongoClient()\n"
   ]
  },
  {
   "cell_type": "code",
   "execution_count": 337,
   "metadata": {},
   "outputs": [],
   "source": [
    "db = client.nipspapers\n"
   ]
  },
  {
   "cell_type": "code",
   "execution_count": 338,
   "metadata": {},
   "outputs": [],
   "source": [
    "collection = db.paper_text\n"
   ]
  },
  {
   "cell_type": "code",
   "execution_count": 360,
   "metadata": {
    "collapsed": true
   },
   "outputs": [],
   "source": [
    "my_texts=list(df['paper_text'])"
   ]
  },
  {
   "cell_type": "code",
   "execution_count": 361,
   "metadata": {},
   "outputs": [
    {
     "data": {
      "text/plain": [
       "list"
      ]
     },
     "execution_count": 361,
     "metadata": {},
     "output_type": "execute_result"
    }
   ],
   "source": [
    "type(my_texts)"
   ]
  },
  {
   "cell_type": "code",
   "execution_count": 370,
   "metadata": {},
   "outputs": [
    {
     "data": {
      "text/plain": [
       "dict"
      ]
     },
     "execution_count": 370,
     "metadata": {},
     "output_type": "execute_result"
    }
   ],
   "source": [
    "t = {str(key):type(text) for key,text in enumerate(my_texts)}\n",
    "type(t)"
   ]
  },
  {
   "cell_type": "code",
   "execution_count": 373,
   "metadata": {},
   "outputs": [],
   "source": [
    "results = db.collection.insert(t)\n"
   ]
  },
  {
   "cell_type": "markdown",
   "metadata": {},
   "source": [
    "# NLP"
   ]
  },
  {
   "cell_type": "code",
   "execution_count": 51,
   "metadata": {},
   "outputs": [],
   "source": [
    "# tfidf outperformed count vectorizer\n",
    "'''cv = CountVectorizer(ngram_range=(1,ngram), stop_words='english', max_df=0.9, min_df=2, max_features=num_features,tokenizer=tokenize_and_stem)\n",
    "   cv_sparse_matrix = cv.fit_transform(df[column_name]) \n",
    "    '''"
   ]
  },
  {
   "cell_type": "code",
   "execution_count": 43,
   "metadata": {},
   "outputs": [
    {
     "name": "stdout",
     "output_type": "stream",
     "text": [
      "(7238, 8)\n",
      "   id  year                                              title  \\\n",
      "0   1  1987  Self-Organization of Associative Database and ...   \n",
      "2   2  1987  The Capacity of the Kanerva Associative Memory...   \n",
      "3   3  1987  Supervised Learning of Probability Distributio...   \n",
      "\n",
      "                                            pdf_name          abstract  \\\n",
      "0  1-self-organization-of-associative-database-an...  Abstract Missing   \n",
      "2  2-the-capacity-of-the-kanerva-associative-memo...  Abstract Missing   \n",
      "3  3-supervised-learning-of-probability-distribut...  Abstract Missing   \n",
      "\n",
      "                                          paper_text  author_id  \\\n",
      "0  767\\n\\nSELF-ORGANIZATION OF ASSOCIATIVE DATABA...          1   \n",
      "2  184\\n\\nTHE CAPACITY OF THE KANERVA ASSOCIATIVE...          3   \n",
      "3  52\\n\\nSupervised Learning of Probability Distr...        252   \n",
      "\n",
      "           author  \n",
      "0  Hisashi Suzuki  \n",
      "2  Philip A. Chou  \n",
      "3    Eric B. Baum  \n"
     ]
    }
   ],
   "source": [
    "#dont need to show multiple authors for each paper since titles are all unique.\n",
    "df=drop_duplicate_papers(df)\n",
    "print(df.shape)\n",
    "print(df.head(3))"
   ]
  },
  {
   "cell_type": "code",
   "execution_count": 44,
   "metadata": {},
   "outputs": [],
   "source": [
    "#clean texts in each of the columns\n",
    "df['paper_text'] = df['paper_text'].apply(lambda x: clean(x))\n",
    "df['title'] = df['title'].apply(lambda x: clean(x))"
   ]
  },
  {
   "cell_type": "code",
   "execution_count": 82,
   "metadata": {},
   "outputs": [
    {
     "data": {
      "text/plain": [
       "' the capacity of the kanerva associative memory is exponential p a choul stanford university stanford ca abstract the capacity of an associative memory is defined as the maximum number of vords that can be stored and retrieved reliably by an address vithin a given sphere of attraction it is shown by sphere packing arguments that as the address length increases the capacity of any associati ve memory is limited to an exponential grovth rate of h vhere h is the binary entropy function in bits and is the radius of the sphere of attraction this exponential grovth in capacity can actually be achieved by the kanerva associative memory if its parameters are optimally set formulas for these op timal values are provided the exponential grovth in capacity for the kanerva associative memory contrasts sharply vith the sub linear grovth in capacity for the hopfield associative memory associative memory and its capacity our model of an associative memory is the folloving let y be an address datum pair vhere is a vector of n ls and y is a vector of m ls and let l y i m y m be m address datum pairs stored in an associative memory if the associative memory is presented at the input vith an address that is close to some stored address w then it should produce at the output a vord y that is close to the corresponding contents y j to be specific let us say that an associative memory can correct fraction errors if an vi thin hamming distance no of j retrieves y equal to y j the hamming sphere around each w vill be called the sphere of attraction and viii be called the radius of attraction one notion of the capacity of this associative memory is the maximum number of vords that it can store vhile correcting fraction errors unfortunately this notion of capacity is ill defined because it depends on exactly vhich address datum pairs have been stored clearly no associative memory can correct fraction errors for every sequence of stored address datum pairs consider for example a sequence in vhich several different vords are vritten to the same address no memory can reliably retrieve the contents of the overvritten vords at the other extreme any associative memory can store an unlimited number of vords and retrieve them all reliably if their contents are identical a useful definition of capacity must lie somevhere betveen these tvo extremes in this paper ve are interested in the largest m such that for most sequences of addresses xu x m and most sequences of data y l y m the memory can correct fraction errors we define ithis vork vas supported by the national science foundation under nsf grant ist and by an ibm doctoral fellovship american institute of physics most sequences in a probabilistic sense as some set of sequences yi th total probability greater than say when all sequences are equiprobab e this reduces to the deterministic version of all sequences in practice it is too difficult to compute the capacity of a given associative memory yith inputs of length n and outputs of length tn fortunately though it is easier to compute the asymptotic rate at which a increases as n and tn increase for a given family of associative memories this is the approach taken by mceliece et al toyards the capacity of the hopfield associative memory we take the same approach tovards the capacity of the kanerva associative memory and tovards the capacities of associative memories in general in the next section ve provide an upper bound on the rate of grovth of the capacity of any associative memory fitting our general model it is shown by sphere packing arguments that capacity is limited to an exponential rate of grovth of h t vhere h t is the binary entropy function in bits and is the radius of attraction in a later section it vill turn out that this exponential grovth in capacity can actually be achieved by the kanerva associative memory if its parameters are optimally set this exponential grovth in capacity for the kanerva associative memory contrasts sharply yith the sub linear grovth in capacity for the hopfield associative memory i a universal upper bound on capacity recall that our definition of the capacity of an associative memory is the largest a such that for most sequences of addresses x x m and most sequences of data y l y m the memory can correct fraction errors clearly an upper bound to this capacity is the largest af for vhich there exists some sequence of addresses x x m such that for most sequences of data y l y m the memory can correct fraction errors we nov derive an expression for this upper bound let be the radius of attraction and let dh x i d be the sphere of attraction i e the set of all xs at most hamming distance d ln j from y j since by assumption the memory corrects fraction errors every address x e dh xu d retrieves the vord yw the size of dh xu d is easily shown to be independent of xu and equal to vn d vhere is the binomial coefficient n jk n k thus n out of a total of n bit addresses at least vn d addresses retrieve y l at least vn d addresses retrieve y at least vn d addresses retrieve y and so forth it fol vs that the total number of distinct yu s can be at most n jv n d nov from stirling s formula it can be shovn that if d s nj then vn d nh d n o logn vhere h og log is the binary entropy function in bits and o logn is some function yhose magnitude grovs more slovly than a constant times log n thus the total number of distinct y j s can be at most n h s o logn since any set containing i most sequences of af tn bit vords vill contain a large number of distinct vords if tn is i figure neural net representation of the kanerva associative memory signals propagate from the bottom input to the top output each arc multiplies the signal by its weight each node adds the incoming signals and then thresholds sufficiently large see for details it follovs that m n l h o o logn in general a function fen is said to be o g n if f n fg n is bounded i e if there exists a constant a such that if n a g n for all n thus says that there exists a constant a such that m n l h s alogn it should be emphasized that since a is unknow this bound has no meaning for fixed n hovever it indicates that asymptotically in n the maximum exponential rate of grovth of m is h intui ti vely only a sequence of addresses x l x m that optimally pack the address space l l n can hope to achieve this upper bound remarkably most such sequences are optimal in this sense vhen n is large the kanerva associative memory can take advantage of this fact the kanerva associative memory the kanerva associative memory can be regarded as a tvo layer neural netvork as shovn in figure vhere the first layer is a preprocessor and the second layer is the usual hopfield style array the preprocessor essentially encodes each n bit input address into a very large k bit internal representation k n vhose size will be permitted to grov exponentially in n it does not seem surprising then that the capacity of the kanerva associative memory can grov exponentially in n for it is knovn that the capacity of the hopfield array grovs almost linearly in k assuming the coordinates of the k vector are dravn at random by independent flips of a fair coin figure matrix representation of the kanerva associative memory signals propagate from the right input to the left output dimensions are shown in the box corners circles stand for functional composition dots stand for matrix multiplication in this situation hovever such an assumption is ridiculous since the k bit internal representation is a function of the n bit input address it can contain at most n bits of information whereas independent flips of a fair coin contain k bits of information kanerva s primary contribution is therefore the specification of the preprocessor that is the specification of how to map each n bit input address into a very large k bit internal representation the operation of the preprocessor is easily described consider the matrix representation shovn in figure the matrix z is randomly populated vith ls this randomness assumption is required to ease the analysis the function fr is in the ith coordinate if the ith row of z is within hamming distance r of x and is oothervise this is accomplished by thresholding the ith input against n r the parameters rand k are two essential parameters in the kanerva associative memory if rand k are set correctly then the number of s in the representation fr zx vill be very small in comparison to the number of os hence fr z y can be considered to be a sparse internal representation of x the second stage of the memory operates in the usual way except on the internal representation of x that is y g w fr zx vhere m l v lyu jr zxu t i l and is the threshold function whose ith coordinate is if the ith input is greater than and is the ith input is less than o the ith column of l v can be regarded as a memory location vhose address is the ith row of z every x vi thin hamming distance r of the ith rov of z accesses this location hence r is known as the access radius and k is the number of memory locations the approach taken in this paper is to fix the linear rate p at which r grovs vith n and to fix the exponential rate at which k grovs with n it turns out that the capacity then grovs at a fixed exponential rate cp t depending on p and these exponential rates are sufficient to overcome the standard loose but simple polynomial bounds on the errors due to combinatorial approximations the capacity of the kanerva associative memory fix k p and min p let n be the input address length and let tn be the output word length it is assumed that tn is at most polynomial in n i e tn exp o logn let r ijmj be the access radius let k l nj be the number of memory locations and let d lonj be the radius of attraction let afn be the number of stored words the components of the n vectors x l x mn the m vectors y l y yn and the k x n matrix z are assumed to be lid equiprobable random variables finally given an n vector x let y g w fr zx where w ef nl yu jr zxw jf define the quantity cp h p cp ico p o where ko p h p h p h p and theorem k if af j if k k o p if k k o p he p p ncp o logn n then for all f o all sufficiently large n all je l afn and all x e dh x j d p y j y j f see interpretation if the exponential growth rate of the number of stored words afn is asymptotically less than c p then for every sufficiently large address length n there is some realization of the nx n preprocessor matrix z such that the associative memory can correct fraction errors for most sequences of afn address datum pairs thus cp ic is a lover bound on the exponential growth rate of the capacity of the kanerva associative memory with access radius np and number of memory locations nic figure shows cp ic o as a function of the radius of attraction for k k o p and p o l and for any fixed access radius p cp ico p decreases as increases this reflects the fact that fewer address datum pairs can be stored if a greater fraction of errors must be corrected as p increases cp o p o begins at a lower point but falls off less steeply in a moment we shall see that p can be adjusted to provide the optimal performance for a given o not shovil in figure is the behavior of cp as a function of k however the behavior is simple for k k o p cp o remains unchanged while for k k o p cp o is simply shifted dovil by the difference ko p k this establishes the conditions under which the kanerva associative memory is robust against random component failures although increasing the number of memory locations beyond rl o p does not increase the capacity it does increase robustness random proof i il iil s il figure graphs of cp lco p o as defined by the upper envelope is h component failures will not affect the capacity until so many components have failed that the number of surviving memory locations is less than nlco p perhaps the most important curve exhibited in figure is the sphere packing upper bound h which is achieved for a particular j p by b p p equivalently the upper bound is achieved for a particular by p equal to poco t jt io l o thus and specify the optimal values of the parameters k and p respectively these functions are shown in figure with these optimal values simplifies to the sphere packing bound it can also be seen that for in the exponential growth rate of the capacity is asymptotically equal to k which is the exponential growth rate of the number of memory locations k n that is mn n c o logn k n logn kanerva and keeler have argued that the capacity at is proportional to the number of memory locations i e mn k n for some constant thus our results are consistent with those of kanerva and keeler provided the polynomial logn can be proved to be a constant however the usual statement of their result m k that the capacity is simply proportional to the number of memory locations is false since in light of the universal lils o rij s figure graphs of ko p and co p the inverse of po as defined by and upper bound it is impossible for the capacity to grow without bound with no dependence on the dimension n in our formulation this difficulty does not arise because we have explicitly related the number of memory locations to the input dimension kn n in fact our formulation provides explicit coherent relationships between all of the following variables the capacity the number of memory locations k the input and output dimensions n and tn the radius of attraction c and the access radius p we are therefore able to generalize the results of to the case c and provide explicit expressions for the asymptotically optimal values of p and k as well conclusion we described a fairly general model of associative memory and selected a useful definition of its capacity a universal upper bound on the growth of the capacity of such an associative memory was shown by a sphere packing argument to be exponential with rate h c where h c is the binary entropy function and is the radius of attraction we reviewed the operation of the kanerva associative memory and stated a lower bound on the exponential growth rate of its capacity this lower bound meets the universal upper bound for optimal values of the memory parameters p and k we provided explicit formulas for these optimal values previous results for stating that the capacity of the kanerva associative memory is proportional to the number of memory locations cannot be strictly true our formulation corrects the problem and generalizes those results to the case c o references r j mceliece e c posner e r rodemich and s s venkatesh the capacity of the hopfield associative memory ieee transactions on information theory submi tt ed p a chou the capacity of the kanerva associative memory ieee transactions on information theory submitted p kanerva self propagating search a unified theory of memory tech rep csli stanford center for the study of language and information stanford ca march p kanerva parallel structures in human and computer memory in neural networks for computing j s denker ed nev york american institute of physics j d keeler comparison betveen sparsely distributed memory and hopfield type neural netvork models tech rep riacs tr nasa research institute for advanced computer science mountain viev ca dec '"
      ]
     },
     "execution_count": 82,
     "metadata": {},
     "output_type": "execute_result"
    }
   ],
   "source": [
    "df['paper_text'].iloc[1]"
   ]
  },
  {
   "cell_type": "code",
   "execution_count": 45,
   "metadata": {
    "scrolled": false
   },
   "outputs": [
    {
     "data": {
      "text/html": [
       "<div>\n",
       "<style scoped>\n",
       "    .dataframe tbody tr th:only-of-type {\n",
       "        vertical-align: middle;\n",
       "    }\n",
       "\n",
       "    .dataframe tbody tr th {\n",
       "        vertical-align: top;\n",
       "    }\n",
       "\n",
       "    .dataframe thead th {\n",
       "        text-align: right;\n",
       "    }\n",
       "</style>\n",
       "<table border=\"1\" class=\"dataframe\">\n",
       "  <thead>\n",
       "    <tr style=\"text-align: right;\">\n",
       "      <th></th>\n",
       "      <th>id</th>\n",
       "      <th>year</th>\n",
       "      <th>title</th>\n",
       "      <th>pdf_name</th>\n",
       "      <th>abstract</th>\n",
       "      <th>paper_text</th>\n",
       "      <th>author_id</th>\n",
       "      <th>author</th>\n",
       "    </tr>\n",
       "  </thead>\n",
       "  <tbody>\n",
       "    <tr>\n",
       "      <th>0</th>\n",
       "      <td>1</td>\n",
       "      <td>1987</td>\n",
       "      <td>self organization of associative database and ...</td>\n",
       "      <td>1-self-organization-of-associative-database-an...</td>\n",
       "      <td>abstract missing</td>\n",
       "      <td>self organization of associative database and...</td>\n",
       "      <td>1</td>\n",
       "      <td>Hisashi Suzuki</td>\n",
       "    </tr>\n",
       "    <tr>\n",
       "      <th>2</th>\n",
       "      <td>2</td>\n",
       "      <td>1987</td>\n",
       "      <td>the capacity of the kanerva associative memory...</td>\n",
       "      <td>2-the-capacity-of-the-kanerva-associative-memo...</td>\n",
       "      <td>abstract missing</td>\n",
       "      <td>the capacity of the kanerva associative memor...</td>\n",
       "      <td>3</td>\n",
       "      <td>Philip A. Chou</td>\n",
       "    </tr>\n",
       "    <tr>\n",
       "      <th>3</th>\n",
       "      <td>3</td>\n",
       "      <td>1987</td>\n",
       "      <td>supervised learning of probability distributio...</td>\n",
       "      <td>3-supervised-learning-of-probability-distribut...</td>\n",
       "      <td>abstract missing</td>\n",
       "      <td>supervised learning of probability distributi...</td>\n",
       "      <td>252</td>\n",
       "      <td>Eric B. Baum</td>\n",
       "    </tr>\n",
       "    <tr>\n",
       "      <th>5</th>\n",
       "      <td>4</td>\n",
       "      <td>1987</td>\n",
       "      <td>constrained differential optimization</td>\n",
       "      <td>4-constrained-differential-optimization.pdf</td>\n",
       "      <td>abstract missing</td>\n",
       "      <td>constrained differential optimization john c ...</td>\n",
       "      <td>4</td>\n",
       "      <td>John C. Platt</td>\n",
       "    </tr>\n",
       "    <tr>\n",
       "      <th>7</th>\n",
       "      <td>5</td>\n",
       "      <td>1987</td>\n",
       "      <td>towards an organizing principle for a layered ...</td>\n",
       "      <td>5-towards-an-organizing-principle-for-a-layere...</td>\n",
       "      <td>abstract missing</td>\n",
       "      <td>towards an organizing principle for a layered...</td>\n",
       "      <td>6</td>\n",
       "      <td>Ralph Linsker</td>\n",
       "    </tr>\n",
       "  </tbody>\n",
       "</table>\n",
       "</div>"
      ],
      "text/plain": [
       "   id  year                                              title  \\\n",
       "0   1  1987  self organization of associative database and ...   \n",
       "2   2  1987  the capacity of the kanerva associative memory...   \n",
       "3   3  1987  supervised learning of probability distributio...   \n",
       "5   4  1987              constrained differential optimization   \n",
       "7   5  1987  towards an organizing principle for a layered ...   \n",
       "\n",
       "                                            pdf_name          abstract  \\\n",
       "0  1-self-organization-of-associative-database-an...  abstract missing   \n",
       "2  2-the-capacity-of-the-kanerva-associative-memo...  abstract missing   \n",
       "3  3-supervised-learning-of-probability-distribut...  abstract missing   \n",
       "5        4-constrained-differential-optimization.pdf  abstract missing   \n",
       "7  5-towards-an-organizing-principle-for-a-layere...  abstract missing   \n",
       "\n",
       "                                          paper_text  author_id  \\\n",
       "0   self organization of associative database and...          1   \n",
       "2   the capacity of the kanerva associative memor...          3   \n",
       "3   supervised learning of probability distributi...        252   \n",
       "5   constrained differential optimization john c ...          4   \n",
       "7   towards an organizing principle for a layered...          6   \n",
       "\n",
       "           author  \n",
       "0  Hisashi Suzuki  \n",
       "2  Philip A. Chou  \n",
       "3    Eric B. Baum  \n",
       "5   John C. Platt  \n",
       "7   Ralph Linsker  "
      ]
     },
     "execution_count": 45,
     "metadata": {},
     "output_type": "execute_result"
    }
   ],
   "source": [
    "df.head()"
   ]
  },
  {
   "cell_type": "code",
   "execution_count": 48,
   "metadata": {},
   "outputs": [
    {
     "data": {
      "text/plain": [
       "(7238, 8)"
      ]
     },
     "execution_count": 48,
     "metadata": {},
     "output_type": "execute_result"
    }
   ],
   "source": [
    "#df_check=df[df['abstract']=='abstract missing']\n",
    "#print(df_check.shape)\n",
    "df.shape"
   ]
  },
  {
   "cell_type": "code",
   "execution_count": 33,
   "metadata": {},
   "outputs": [],
   "source": [
    "#wordcloud\n",
    "'''def realdata(papertexts):\n",
    "    s = \"\"\n",
    "    for i in range(len(papertexts)):\n",
    "        w_list = papertexts[i].split()\n",
    "        indexvalue= w_list.index(\"abstract\")+1 if \"abstract\" in w_list else 0\n",
    "        s = s+ \" \".join( w_list[indexvalue: ] )\n",
    "    return s\n",
    "\n",
    "papers = pd.read_csv(\"../papers.csv\")\n",
    "papertext = papers['paper_text'].str.lower()\n",
    "completestring = realdata(papertext)\n",
    "\n",
    "stopwords = STOPWORDS\n",
    "stopwords.update([\"this\",\"that\",\"thus\",\"from\",\"does\",\"example\",\"however\",\"since\",\"given\",\"et\",\"al\"])\n",
    "wordcloud = WordCloud(\n",
    "                      stopwords=stopwords,\n",
    "                      background_color='black',\n",
    "                      width=1800,\n",
    "                      height=1400\n",
    "                     ).generate(completestring)\n",
    "plt.figure( figsize =(15,6))\n",
    "plt.imshow(wordcloud)\n",
    "plt.axis('off')\n",
    "\n",
    "''';"
   ]
  },
  {
   "cell_type": "code",
   "execution_count": 288,
   "metadata": {},
   "outputs": [],
   "source": [
    "def plot_docs_by_year(df):\n",
    "    plt.figure(figsize=(10,6))\n",
    "    ax = sns.countplot(x=df['year'],palette='plasma')\n",
    "    \n",
    "    # Prettify\n",
    "    sns.set_style('ticks')\n",
    "    plt.title('Total Papers published by Year', fontsize=25)\n",
    "    plt.xlabel('Year', fontsize=20)\n",
    "    plt.ylabel('Total Papers published', fontsize=20)\n",
    "    \n",
    "    plt.xticks(fontsize=14,rotation='vertical')\n",
    "    plt.yticks(fontsize=14)\n"
   ]
  },
  {
   "cell_type": "code",
   "execution_count": 289,
   "metadata": {
    "scrolled": false
   },
   "outputs": [
    {
     "data": {
      "image/png": "[encoded data removed]",
      "text/plain": [
       "<Figure size 720x432 with 1 Axes>"
      ]
     },
     "metadata": {},
     "output_type": "display_data"
    }
   ],
   "source": [
    "plot_docs_by_year(df)"
   ]
  },
  {
   "cell_type": "code",
   "execution_count": 57,
   "metadata": {},
   "outputs": [],
   "source": [
    "tfidf_vectorizer, tfidf_sparse = create_tfidf(df=df,column_name='paper_text',num_features=2000)"
   ]
  },
  {
   "cell_type": "code",
   "execution_count": 6,
   "metadata": {},
   "outputs": [],
   "source": [
    "'''\n",
    "pickle_(df, 'df_clean')\n",
    "pickle_(count_vectorizer, 'count_vectorizer')\n",
    "pickle_(count_sparse, 'count_sparse')\n",
    "pickle_(tfidf_vectorizer, 'tfidf_vectorizer')\n",
    "pickle_(tfidf_sparse, 'tfidf_sparse')\n",
    "''';"
   ]
  },
  {
   "cell_type": "code",
   "execution_count": 62,
   "metadata": {},
   "outputs": [
    {
     "data": {
      "text/html": [
       "<div>\n",
       "<style scoped>\n",
       "    .dataframe tbody tr th:only-of-type {\n",
       "        vertical-align: middle;\n",
       "    }\n",
       "\n",
       "    .dataframe tbody tr th {\n",
       "        vertical-align: top;\n",
       "    }\n",
       "\n",
       "    .dataframe thead th {\n",
       "        text-align: right;\n",
       "    }\n",
       "</style>\n",
       "<table border=\"1\" class=\"dataframe\">\n",
       "  <thead>\n",
       "    <tr style=\"text-align: right;\">\n",
       "      <th></th>\n",
       "      <th>aaai</th>\n",
       "      <th>ab</th>\n",
       "      <th>abil</th>\n",
       "      <th>abl</th>\n",
       "      <th>abov</th>\n",
       "      <th>absenc</th>\n",
       "      <th>absolut</th>\n",
       "      <th>ac</th>\n",
       "      <th>acceler</th>\n",
       "      <th>accept</th>\n",
       "      <th>...</th>\n",
       "      <th>z</th>\n",
       "      <th>zero</th>\n",
       "      <th>zhang</th>\n",
       "      <th>zhou</th>\n",
       "      <th>zhu</th>\n",
       "      <th>zi</th>\n",
       "      <th>zj</th>\n",
       "      <th>zk</th>\n",
       "      <th>zn</th>\n",
       "      <th>zt</th>\n",
       "    </tr>\n",
       "  </thead>\n",
       "  <tbody>\n",
       "    <tr>\n",
       "      <th>0</th>\n",
       "      <td>0</td>\n",
       "      <td>0</td>\n",
       "      <td>0</td>\n",
       "      <td>0</td>\n",
       "      <td>1</td>\n",
       "      <td>0</td>\n",
       "      <td>0</td>\n",
       "      <td>0</td>\n",
       "      <td>1</td>\n",
       "      <td>2</td>\n",
       "      <td>...</td>\n",
       "      <td>0</td>\n",
       "      <td>0</td>\n",
       "      <td>0</td>\n",
       "      <td>0</td>\n",
       "      <td>0</td>\n",
       "      <td>0</td>\n",
       "      <td>0</td>\n",
       "      <td>0</td>\n",
       "      <td>0</td>\n",
       "      <td>0</td>\n",
       "    </tr>\n",
       "    <tr>\n",
       "      <th>1</th>\n",
       "      <td>0</td>\n",
       "      <td>0</td>\n",
       "      <td>0</td>\n",
       "      <td>1</td>\n",
       "      <td>0</td>\n",
       "      <td>0</td>\n",
       "      <td>0</td>\n",
       "      <td>0</td>\n",
       "      <td>0</td>\n",
       "      <td>0</td>\n",
       "      <td>...</td>\n",
       "      <td>7</td>\n",
       "      <td>0</td>\n",
       "      <td>0</td>\n",
       "      <td>0</td>\n",
       "      <td>0</td>\n",
       "      <td>0</td>\n",
       "      <td>0</td>\n",
       "      <td>0</td>\n",
       "      <td>0</td>\n",
       "      <td>0</td>\n",
       "    </tr>\n",
       "    <tr>\n",
       "      <th>2</th>\n",
       "      <td>0</td>\n",
       "      <td>0</td>\n",
       "      <td>1</td>\n",
       "      <td>2</td>\n",
       "      <td>0</td>\n",
       "      <td>0</td>\n",
       "      <td>0</td>\n",
       "      <td>0</td>\n",
       "      <td>0</td>\n",
       "      <td>1</td>\n",
       "      <td>...</td>\n",
       "      <td>0</td>\n",
       "      <td>0</td>\n",
       "      <td>0</td>\n",
       "      <td>0</td>\n",
       "      <td>0</td>\n",
       "      <td>0</td>\n",
       "      <td>0</td>\n",
       "      <td>0</td>\n",
       "      <td>0</td>\n",
       "      <td>0</td>\n",
       "    </tr>\n",
       "    <tr>\n",
       "      <th>3</th>\n",
       "      <td>0</td>\n",
       "      <td>0</td>\n",
       "      <td>0</td>\n",
       "      <td>0</td>\n",
       "      <td>0</td>\n",
       "      <td>0</td>\n",
       "      <td>1</td>\n",
       "      <td>0</td>\n",
       "      <td>0</td>\n",
       "      <td>0</td>\n",
       "      <td>...</td>\n",
       "      <td>2</td>\n",
       "      <td>0</td>\n",
       "      <td>0</td>\n",
       "      <td>0</td>\n",
       "      <td>0</td>\n",
       "      <td>0</td>\n",
       "      <td>0</td>\n",
       "      <td>0</td>\n",
       "      <td>0</td>\n",
       "      <td>0</td>\n",
       "    </tr>\n",
       "    <tr>\n",
       "      <th>4</th>\n",
       "      <td>0</td>\n",
       "      <td>0</td>\n",
       "      <td>0</td>\n",
       "      <td>0</td>\n",
       "      <td>5</td>\n",
       "      <td>0</td>\n",
       "      <td>0</td>\n",
       "      <td>0</td>\n",
       "      <td>0</td>\n",
       "      <td>0</td>\n",
       "      <td>...</td>\n",
       "      <td>0</td>\n",
       "      <td>2</td>\n",
       "      <td>0</td>\n",
       "      <td>0</td>\n",
       "      <td>0</td>\n",
       "      <td>0</td>\n",
       "      <td>0</td>\n",
       "      <td>0</td>\n",
       "      <td>0</td>\n",
       "      <td>0</td>\n",
       "    </tr>\n",
       "  </tbody>\n",
       "</table>\n",
       "<p>5 rows × 2000 columns</p>\n",
       "</div>"
      ],
      "text/plain": [
       "   aaai  ab  abil  abl  abov  absenc  absolut  ac  acceler  accept ...  z  \\\n",
       "0     0   0     0    0     1       0        0   0        1       2 ...  0   \n",
       "1     0   0     0    1     0       0        0   0        0       0 ...  7   \n",
       "2     0   0     1    2     0       0        0   0        0       1 ...  0   \n",
       "3     0   0     0    0     0       0        1   0        0       0 ...  2   \n",
       "4     0   0     0    0     5       0        0   0        0       0 ...  0   \n",
       "\n",
       "   zero  zhang  zhou  zhu  zi  zj  zk  zn  zt  \n",
       "0     0      0     0    0   0   0   0   0   0  \n",
       "1     0      0     0    0   0   0   0   0   0  \n",
       "2     0      0     0    0   0   0   0   0   0  \n",
       "3     0      0     0    0   0   0   0   0   0  \n",
       "4     2      0     0    0   0   0   0   0   0  \n",
       "\n",
       "[5 rows x 2000 columns]"
      ]
     },
     "execution_count": 62,
     "metadata": {},
     "output_type": "execute_result"
    }
   ],
   "source": [
    "pd.DataFrame(count_sparse.toarray(), columns=count_vectorizer.get_feature_names()).head()"
   ]
  },
  {
   "cell_type": "code",
   "execution_count": 63,
   "metadata": {
    "scrolled": true
   },
   "outputs": [
    {
     "data": {
      "text/html": [
       "<div>\n",
       "<style scoped>\n",
       "    .dataframe tbody tr th:only-of-type {\n",
       "        vertical-align: middle;\n",
       "    }\n",
       "\n",
       "    .dataframe tbody tr th {\n",
       "        vertical-align: top;\n",
       "    }\n",
       "\n",
       "    .dataframe thead th {\n",
       "        text-align: right;\n",
       "    }\n",
       "</style>\n",
       "<table border=\"1\" class=\"dataframe\">\n",
       "  <thead>\n",
       "    <tr style=\"text-align: right;\">\n",
       "      <th></th>\n",
       "      <th>aaai</th>\n",
       "      <th>ab</th>\n",
       "      <th>abil</th>\n",
       "      <th>abl</th>\n",
       "      <th>abov</th>\n",
       "      <th>absenc</th>\n",
       "      <th>absolut</th>\n",
       "      <th>ac</th>\n",
       "      <th>acceler</th>\n",
       "      <th>accept</th>\n",
       "      <th>...</th>\n",
       "      <th>z</th>\n",
       "      <th>zero</th>\n",
       "      <th>zhang</th>\n",
       "      <th>zhou</th>\n",
       "      <th>zhu</th>\n",
       "      <th>zi</th>\n",
       "      <th>zj</th>\n",
       "      <th>zk</th>\n",
       "      <th>zn</th>\n",
       "      <th>zt</th>\n",
       "    </tr>\n",
       "  </thead>\n",
       "  <tbody>\n",
       "    <tr>\n",
       "      <th>0</th>\n",
       "      <td>0.0</td>\n",
       "      <td>0.0</td>\n",
       "      <td>0.000000</td>\n",
       "      <td>0.000000</td>\n",
       "      <td>0.006162</td>\n",
       "      <td>0.0</td>\n",
       "      <td>0.000000</td>\n",
       "      <td>0.0</td>\n",
       "      <td>0.014408</td>\n",
       "      <td>0.027951</td>\n",
       "      <td>...</td>\n",
       "      <td>0.000000</td>\n",
       "      <td>0.000000</td>\n",
       "      <td>0.0</td>\n",
       "      <td>0.0</td>\n",
       "      <td>0.0</td>\n",
       "      <td>0.0</td>\n",
       "      <td>0.0</td>\n",
       "      <td>0.0</td>\n",
       "      <td>0.0</td>\n",
       "      <td>0.0</td>\n",
       "    </tr>\n",
       "    <tr>\n",
       "      <th>1</th>\n",
       "      <td>0.0</td>\n",
       "      <td>0.0</td>\n",
       "      <td>0.000000</td>\n",
       "      <td>0.006532</td>\n",
       "      <td>0.000000</td>\n",
       "      <td>0.0</td>\n",
       "      <td>0.000000</td>\n",
       "      <td>0.0</td>\n",
       "      <td>0.000000</td>\n",
       "      <td>0.000000</td>\n",
       "      <td>...</td>\n",
       "      <td>0.036101</td>\n",
       "      <td>0.000000</td>\n",
       "      <td>0.0</td>\n",
       "      <td>0.0</td>\n",
       "      <td>0.0</td>\n",
       "      <td>0.0</td>\n",
       "      <td>0.0</td>\n",
       "      <td>0.0</td>\n",
       "      <td>0.0</td>\n",
       "      <td>0.0</td>\n",
       "    </tr>\n",
       "    <tr>\n",
       "      <th>2</th>\n",
       "      <td>0.0</td>\n",
       "      <td>0.0</td>\n",
       "      <td>0.018356</td>\n",
       "      <td>0.029363</td>\n",
       "      <td>0.000000</td>\n",
       "      <td>0.0</td>\n",
       "      <td>0.000000</td>\n",
       "      <td>0.0</td>\n",
       "      <td>0.000000</td>\n",
       "      <td>0.025025</td>\n",
       "      <td>...</td>\n",
       "      <td>0.000000</td>\n",
       "      <td>0.000000</td>\n",
       "      <td>0.0</td>\n",
       "      <td>0.0</td>\n",
       "      <td>0.0</td>\n",
       "      <td>0.0</td>\n",
       "      <td>0.0</td>\n",
       "      <td>0.0</td>\n",
       "      <td>0.0</td>\n",
       "      <td>0.0</td>\n",
       "    </tr>\n",
       "    <tr>\n",
       "      <th>3</th>\n",
       "      <td>0.0</td>\n",
       "      <td>0.0</td>\n",
       "      <td>0.000000</td>\n",
       "      <td>0.000000</td>\n",
       "      <td>0.000000</td>\n",
       "      <td>0.0</td>\n",
       "      <td>0.008731</td>\n",
       "      <td>0.0</td>\n",
       "      <td>0.000000</td>\n",
       "      <td>0.000000</td>\n",
       "      <td>...</td>\n",
       "      <td>0.009174</td>\n",
       "      <td>0.000000</td>\n",
       "      <td>0.0</td>\n",
       "      <td>0.0</td>\n",
       "      <td>0.0</td>\n",
       "      <td>0.0</td>\n",
       "      <td>0.0</td>\n",
       "      <td>0.0</td>\n",
       "      <td>0.0</td>\n",
       "      <td>0.0</td>\n",
       "    </tr>\n",
       "    <tr>\n",
       "      <th>4</th>\n",
       "      <td>0.0</td>\n",
       "      <td>0.0</td>\n",
       "      <td>0.000000</td>\n",
       "      <td>0.000000</td>\n",
       "      <td>0.021891</td>\n",
       "      <td>0.0</td>\n",
       "      <td>0.000000</td>\n",
       "      <td>0.0</td>\n",
       "      <td>0.000000</td>\n",
       "      <td>0.000000</td>\n",
       "      <td>...</td>\n",
       "      <td>0.000000</td>\n",
       "      <td>0.009561</td>\n",
       "      <td>0.0</td>\n",
       "      <td>0.0</td>\n",
       "      <td>0.0</td>\n",
       "      <td>0.0</td>\n",
       "      <td>0.0</td>\n",
       "      <td>0.0</td>\n",
       "      <td>0.0</td>\n",
       "      <td>0.0</td>\n",
       "    </tr>\n",
       "  </tbody>\n",
       "</table>\n",
       "<p>5 rows × 2000 columns</p>\n",
       "</div>"
      ],
      "text/plain": [
       "   aaai   ab      abil       abl      abov  absenc   absolut   ac   acceler  \\\n",
       "0   0.0  0.0  0.000000  0.000000  0.006162     0.0  0.000000  0.0  0.014408   \n",
       "1   0.0  0.0  0.000000  0.006532  0.000000     0.0  0.000000  0.0  0.000000   \n",
       "2   0.0  0.0  0.018356  0.029363  0.000000     0.0  0.000000  0.0  0.000000   \n",
       "3   0.0  0.0  0.000000  0.000000  0.000000     0.0  0.008731  0.0  0.000000   \n",
       "4   0.0  0.0  0.000000  0.000000  0.021891     0.0  0.000000  0.0  0.000000   \n",
       "\n",
       "     accept ...          z      zero  zhang  zhou  zhu   zi   zj   zk   zn  \\\n",
       "0  0.027951 ...   0.000000  0.000000    0.0   0.0  0.0  0.0  0.0  0.0  0.0   \n",
       "1  0.000000 ...   0.036101  0.000000    0.0   0.0  0.0  0.0  0.0  0.0  0.0   \n",
       "2  0.025025 ...   0.000000  0.000000    0.0   0.0  0.0  0.0  0.0  0.0  0.0   \n",
       "3  0.000000 ...   0.009174  0.000000    0.0   0.0  0.0  0.0  0.0  0.0  0.0   \n",
       "4  0.000000 ...   0.000000  0.009561    0.0   0.0  0.0  0.0  0.0  0.0  0.0   \n",
       "\n",
       "    zt  \n",
       "0  0.0  \n",
       "1  0.0  \n",
       "2  0.0  \n",
       "3  0.0  \n",
       "4  0.0  \n",
       "\n",
       "[5 rows x 2000 columns]"
      ]
     },
     "execution_count": 63,
     "metadata": {},
     "output_type": "execute_result"
    }
   ],
   "source": [
    "pd.DataFrame(tfidf_sparse.toarray(), columns=tfidf_vectorizer.get_feature_names()).head()"
   ]
  },
  {
   "cell_type": "code",
   "execution_count": 19,
   "metadata": {},
   "outputs": [],
   "source": [
    "\n",
    "df=unpickle_('df_clean.pickle')\n",
    "count_vectorizer=unpickle_('count_vectorizer.pickle')\n",
    "count_sparse=unpickle_('count_sparse.pickle')\n",
    "tfidf_vectorizer=unpickle_('tfidf_vectorizer.pickle')\n",
    "tfidf_sparse=unpickle_('tfidf_sparse.pickle')\n"
   ]
  },
  {
   "cell_type": "code",
   "execution_count": 126,
   "metadata": {
    "scrolled": false
   },
   "outputs": [
    {
     "name": "stdout",
     "output_type": "stream",
     "text": [
      "['aaai', 'ab', 'abil', 'abl', 'abov', 'absenc', 'absolut', 'ac', 'acceler', 'accept', 'access', 'accord', 'account', 'accumul', 'accur', 'accuraci', 'achiev', 'acknowledg', 'acm', 'acoust', 'acquisit', 'act', 'action', 'activ', 'actor', 'actual', 'ad', 'adaboost', 'adam', 'adapt', 'add', 'addit', 'address', 'adjac', 'adjust', 'admm', 'adopt', 'advanc', 'advantag', 'adversari', 'affect', 'affin', 'agent', 'aggreg', 'agreement', 'ai', 'aij', 'aim', 'aistat', 'aj', 'ak', 'al', 'algebra', 'algorithm', 'align', 'alloc', 'allow', 'alon', 'alreadi', 'altern', 'alway', 'ambigu', 'american', 'amplitud', 'analog', 'analys', 'analysi', 'analyt', 'analyz', 'andrew', 'angl', 'ani', 'anim', 'ann', 'annal', 'anneal', 'annot', 'annual', 'anoth', 'answer', 'ap', 'appear', 'appendix', 'appli', 'applic', 'approach', 'appropri', 'approxim', 'ar', 'arbitrari', 'arbitrarili', 'architectur', 'area', 'arg', 'argmin', 'argu', 'argument', 'aris', 'arm', 'array', 'arriv', 'art', 'articl', 'artifici', 'arxiv', 'ascent', 'ask', 'aspect', 'assess', 'assign', 'associ', 'assum', 'assumpt', 'asymptot', 'asynchron', 'atom', 'attain', 'attempt', 'attent', 'attract', 'attractor', 'attribut', 'auc', 'audio', 'auditori', 'augment', 'author', 'auto', 'autoencod', 'autom', 'automat', 'auxiliari', 'avail', 'averag', 'avoid', 'away', 'ax', 'axi', 'ba', 'bach', 'background', 'backpropag', 'backward', 'bad', 'bag', 'balanc', 'ball', 'band', 'bandit', 'bandwidth', 'bar', 'bartlett', 'baselin', 'basi', 'basic', 'batch', 'bay', 'bayesian', 'becaus', 'becom', 'befor', 'begin', 'behav', 'behavior', 'behaviour', 'belief', 'believ', 'bellman', 'belong', 'benchmark', 'benefit', 'bengio', 'berkeley', 'bernoulli', 'best', 'beta', 'better', 'bi', 'bia', 'bias', 'big', 'bin', 'binari', 'biolog', 'bipartit', 'bit', 'bj', 'bk', 'black', 'blind', 'block', 'blue', 'bn', 'bodi', 'boltzmann', 'boolean', 'boost', 'bootstrap', 'bound', 'boundari', 'box', 'bp', 'brain', 'branch', 'break', 'bregman', 'briefli', 'broad', 'brown', 'bt', 'budget', 'build', 'built', 'ca', 'calcul', 'calibr', 'california', 'cambridg', 'camera', 'candid', 'canon', 'capabl', 'capac', 'caption', 'captur', 'car', 'cardin', 'care', 'carlo', 'carri', 'cascad', 'cat', 'categor', 'categori', 'caus', 'causal', 'cd', 'cell', 'center', 'central', 'certain', 'cf', 'ch', 'chain', 'challeng', 'chang', 'channel', 'charact', 'character', 'characterist', 'check', 'chen', 'child', 'children', 'chip', 'choic', 'choos', 'chose', 'chosen', 'ci', 'cifar', 'circl', 'circuit', 'cj', 'ck', 'cl', 'claim', 'class', 'classic', 'classif', 'classifi', 'clear', 'clearli', 'cliqu', 'close', 'closer', 'closest', 'cluster', 'cm', 'cmu', 'cn', 'cnn', 'coars', 'code', 'coeffici', 'cognit', 'coher', 'coincid', 'collabor', 'collaps', 'collect', 'color', 'colt', 'column', 'com', 'combin', 'combinatori', 'come', 'comment', 'common', 'commonli', 'commun', 'compact', 'compar', 'comparison', 'compat', 'compet', 'competit', 'complet', 'complex', 'complic', 'compon', 'compos', 'composit', 'compress', 'concaten', 'concav', 'concentr', 'concept', 'concern', 'conclud', 'conclus', 'concret', 'condit', 'conduct', 'cone', 'conf', 'confer', 'confid', 'configur', 'confirm', 'conjug', 'connect', 'connectionist', 'consequ', 'consid', 'consider', 'consist', 'constant', 'constrain', 'constraint', 'construct', 'contain', 'content', 'context', 'contextu', 'continu', 'contour', 'contract', 'contrast', 'contribut', 'control', 'conv', 'conveni', 'convent', 'converg', 'convers', 'convert', 'convex', 'convolut', 'cooper', 'coordin', 'copi', 'copula', 'core', 'corollari', 'corpu', 'corr', 'correct', 'correctli', 'correl', 'correspond', 'corrupt', 'cortex', 'cortic', 'cost', 'count', 'coupl', 'cours', 'covari', 'cover', 'cp', 'cpu', 'cr', 'creat', 'crf', 'criteria', 'criterion', 'critic', 'cross', 'crucial', 'cs', 'ct', 'cue', 'cumul', 'current', 'curv', 'curvatur', 'custom', 'cut', 'cv', 'cvpr', 'cycl', 'da', 'dag', 'dash', 'data', 'databas', 'dataset', 'david', 'day', 'db', 'dc', 'deal', 'decay', 'decid', 'decis', 'decod', 'decompos', 'decomposit', 'decreas', 'deep', 'def', 'defin', 'definit', 'deform', 'degrad', 'degre', 'delay', 'demand', 'demonstr', 'dendrit', 'denois', 'denot', 'dens', 'densiti', 'depart', 'depend', 'depict', 'dept', 'depth', 'deriv', 'descent', 'describ', 'descript', 'descriptor', 'design', 'desir', 'despit', 'det', 'detect', 'detector', 'determin', 'determinist', 'develop', 'deviat', 'devic', 'di', 'diag', 'diagon', 'diagram', 'dictionari', 'did', 'differenti', 'difficult', 'difficulti', 'diffus', 'digit', 'dimens', 'dimension', 'direct', 'directli', 'dirichlet', 'discard', 'discount', 'discov', 'discoveri', 'discret', 'discrimin', 'discuss', 'diseas', 'disjoint', 'dispar', 'display', 'distanc', 'distinct', 'distinguish', 'distort', 'distribut', 'diverg', 'divers', 'divid', 'dk', 'dm', 'dn', 'document', 'doe', 'domain', 'domin', 'dot', 'doubl', 'dp', 'dr', 'draw', 'drawn', 'drift', 'drive', 'driven', 'drop', 'dropout', 'ds', 'dt', 'dual', 'durat', 'dure', 'dx', 'dynam', 'earli', 'earlier', 'easi', 'easier', 'easili', 'ed', 'edg', 'edit', 'editor', 'edu', 'eeg', 'effect', 'effici', 'effort', 'ei', 'eigenvalu', 'eigenvector', 'ek', 'el', 'electr', 'electron', 'element', 'elimin', 'els', 'em', 'embed', 'emerg', 'emphas', 'empir', 'employ', 'empti', 'en', 'enabl', 'encod', 'encourag', 'end', 'energi', 'enforc', 'engin', 'enhanc', 'ensembl', 'ensur', 'entir', 'entiti', 'entri', 'entropi', 'environ', 'ep', 'episod', 'epoch', 'eq', 'eqn', 'equal', 'equat', 'equilibrium', 'equival', 'er', 'error', 'es', 'especi', 'essenti', 'establish', 'estim', 'et', 'euclidean', 'european', 'evalu', 'event', 'everi', 'evid', 'evolut', 'evolv', 'ex', 'exact', 'exactli', 'examin', 'exampl', 'excess', 'exchang', 'excit', 'excitatori', 'execut', 'exemplar', 'exhibit', 'exist', 'exp', 'expand', 'expans', 'expect', 'expens', 'experi', 'experiment', 'expert', 'explain', 'explan', 'explicit', 'explicitli', 'exploit', 'explor', 'exponenti', 'express', 'extend', 'extens', 'extent', 'extern', 'extra', 'extract', 'extrem', 'eye', 'f', 'fa', 'face', 'facilit', 'fact', 'factor', 'fail', 'failur', 'fair', 'fairli', 'fall', 'fals', 'famili', 'far', 'fashion', 'fast', 'faster', 'favor', 'fc', 'feasibl', 'featur', 'feed', 'feedback', 'feedforward', 'fewer', 'fi', 'field', 'fig', 'figur', 'filter', 'final', 'fine', 'finit', 'fisher', 'fit', 'fix', 'fj', 'fk', 'flat', 'flexibl', 'flow', 'fluctuat', 'fm', 'fmri', 'fn', 'focu', 'focus', 'fold', 'forc', 'forecast', 'forest', 'form', 'formal', 'format', 'formul', 'formula', 'forward', 'foundat', 'fourier', 'fp', 'fr', 'fraction', 'frame', 'framework', 'free', 'frequenc', 'frequent', 'friedman', 'fs', 'ft', 'fulli', 'fundament', 'furthermor', 'futur', 'gain', 'game', 'gamma', 'gan', 'gap', 'gate', 'gaussian', 'gene', 'genet', 'geometr', 'geometri', 'ghahramani', 'gi', 'gibb', 'gj', 'gk', 'global', 'gmm', 'goal', 'goe', 'good', 'googl', 'govern', 'gp', 'gradient', 'gram', 'grammar', 'grant', 'graph', 'graphic', 'gray', 'great', 'greater', 'greedi', 'green', 'grid', 'ground', 'group', 'grow', 'gt', 'guarante', 'guid', 'h', 'half', 'ham', 'hand', 'handl', 'handwritten', 'happen', 'hard', 'hardwar', 'harmon', 'hash', 'head', 'hebbian', 'held', 'help', 'henc', 'hessian', 'heurist', 'hi', 'hidden', 'hierarch', 'hierarchi', 'high', 'higher', 'highest', 'highli', 'highlight', 'hilbert', 'hing', 'hinton', 'histogram', 'histori', 'hit', 'hj', 'hk', 'hm', 'hmm', 'hold', 'homogen', 'hope', 'hopfield', 'horizon', 'horizont', 'hour', 'ht', 'http', 'huang', 'human', 'hybrid', 'hyper', 'hyperparamet', 'hyperplan', 'hypothes', 'hypothesi', 'hz', 'ic', 'ica', 'iccv', 'icml', 'id', 'idea', 'ideal', 'ident', 'identif', 'identifi', 'ieee', 'ignor', 'ii', 'iid', 'iii', 'ij', 'ik', 'il', 'illustr', 'im', 'imag', 'imagenet', 'immedi', 'impact', 'implement', 'impli', 'implic', 'implicit', 'implicitli', 'import', 'importantli', 'impos', 'imposs', 'improv', 'includ', 'incomplet', 'incorpor', 'increas', 'increment', 'incur', 'inde', 'independ', 'index', 'indic', 'individu', 'induc', 'induct', 'inequ', 'inf', 'infer', 'infinit', 'influenc', 'inher', 'inhibit', 'inhibitori', 'initi', 'inner', 'input', 'insid', 'insight', 'inspir', 'instanc', 'instanti', 'instead', 'institut', 'int', 'integ', 'integr', 'intellig', 'intens', 'inter', 'interact', 'interestingli', 'interfac', 'intermedi', 'intern', 'interpol', 'interpret', 'intersect', 'interv', 'intract', 'intrins', 'introduc', 'intuit', 'invari', 'invers', 'invert', 'investig', 'involv', 'ip', 'ir', 'ise', 'isol', 'issu', 'item', 'iter', 'ith', 'iv', 'ji', 'jk', 'jmlr', 'john', 'joint', 'jointli', 'jordan', 'journal', 'jump', 'just', 'ka', 'kalman', 'kaufmann', 'kd', 'kernel', 'key', 'kf', 'ki', 'kind', 'kj', 'kl', 'km', 'kn', 'know', 'knowledg', 'known', 'kp', 'kt', 'kw', 'kx', 'kxk', 'la', 'lab', 'label', 'laboratori', 'lack', 'languag', 'laplac', 'laplacian', 'larg', 'larger', 'largest', 'lasso', 'latent', 'later', 'lattic', 'law', 'layer', 'ld', 'lda', 'le', 'lead', 'leaf', 'learn', 'learnabl', 'learner', 'leav', 'lecun', 'lee', 'left', 'lemma', 'length', 'let', 'letter', 'level', 'leverag', 'li', 'lie', 'lift', 'light', 'like', 'likelihood', 'lim', 'limit', 'lin', 'line', 'linear', 'linearli', 'linguist', 'link', 'lipschitz', 'list', 'literatur', 'littl', 'liu', 'lk', 'll', 'lm', 'ln', 'load', 'local', 'locat', 'log', 'logarithm', 'logic', 'logist', 'london', 'long', 'longer', 'look', 'loop', 'loss', 'low', 'lower', 'lowest', 'lp', 'lr', 'ls', 'lstm', 'lt', 'ma', 'machin', 'magnitud', 'main', 'mainli', 'maintain', 'major', 'make', 'man', 'manag', 'mani', 'manifold', 'manipul', 'manner', 'manual', 'map', 'margin', 'mark', 'market', 'markov', 'martin', 'mask', 'mass', 'match', 'materi', 'math', 'mathemat', 'matric', 'matrix', 'matter', 'max', 'maxim', 'maximum', 'mc', 'mcmc', 'md', 'mdp', 'mean', 'meaning', 'measur', 'mechan', 'median', 'member', 'membership', 'membran', 'memori', 'mention', 'merg', 'messag', 'meta', 'method', 'methodolog', 'metric', 'mf', 'mi', 'michael', 'microsoft', 'middl', 'million', 'min', 'mini', 'minim', 'minima', 'minimax', 'minimum', 'minut', 'mirror', 'miss', 'mistak', 'mit', 'mix', 'mixtur', 'mk', 'ml', 'mle', 'mlp', 'mm', 'mn', 'mnist', 'modal', 'mode', 'modif', 'modifi', 'modul', 'modular', 'moment', 'monitor', 'monoton', 'mont', 'moreov', 'morgan', 'motion', 'motiv', 'motor', 'movement', 'movi', 'mp', 'mrf', 'ms', 'mse', 'mt', 'multi', 'multiclass', 'multinomi', 'multipl', 'multipli', 'multivari', 'music', 'mutual', 'na', 'naiv', 'nation', 'natur', 'nc', 'nd', 'ne', 'near', 'nearest', 'nearli', 'necessari', 'necessarili', 'need', 'neg', 'neighbor', 'neighborhood', 'net', 'network', 'neural', 'neuron', 'neurosci', 'new', 'newton', 'ng', 'ni', 'nip', 'nj', 'nk', 'nl', 'nm', 'nn', 'node', 'nois', 'noisi', 'non', 'nonconvex', 'nonlinear', 'nonneg', 'nonparametr', 'nonzero', 'norm', 'normal', 'notat', 'note', 'notic', 'notion', 'novel', 'np', 'ns', 'nsf', 'nt', 'null', 'numer', 'ny', 'o', 'object', 'observ', 'obtain', 'obviou', 'occur', 'occurr', 'offer', 'offlin', 'offset', 'oi', 'old', 'omit', 'onc', 'onlin', 'op', 'open', 'oper', 'oppos', 'opt', 'optic', 'optim', 'optimis', 'optimum', 'option', 'oracl', 'order', 'org', 'organ', 'orient', 'origin', 'orthogon', 'oscil', 'ot', 'otherwis', 'outcom', 'outer', 'outlier', 'outlin', 'outperform', 'output', 'outsid', 'overal', 'overcom', 'overfit', 'overlap', 'overview', 'pa', 'pac', 'page', 'pair', 'pairwis', 'panel', 'paper', 'paradigm', 'parallel', 'paramet', 'parameter', 'parametr', 'parent', 'pars', 'partial', 'particip', 'particl', 'particular', 'particularli', 'partit', 'pascal', 'pass', 'past', 'patch', 'path', 'pathway', 'patient', 'pattern', 'payoff', 'pc', 'pca', 'pd', 'pe', 'peak', 'penal', 'penalti', 'peopl', 'percentag', 'percept', 'perceptron', 'perceptu', 'perfect', 'perhap', 'period', 'permut', 'person', 'perspect', 'perturb', 'peter', 'pg', 'ph', 'phase', 'phd', 'phonem', 'phrase', 'physic', 'physiolog', 'pi', 'pick', 'pictur', 'piecewis', 'pij', 'pixel', 'pj', 'pk', 'pl', 'place', 'plan', 'plane', 'plastic', 'plausibl', 'play', 'player', 'plot', 'plu', 'pm', 'pn', 'po', 'point', 'poisson', 'polici', 'polynomi', 'polytop', 'pomdp', 'pool', 'poor', 'poorli', 'popul', 'popular', 'portion', 'pose', 'posit', 'possibl', 'post', 'posterior', 'postsynapt', 'potenti', 'power', 'pp', 'pr', 'practic', 'pre', 'precis', 'predict', 'predictor', 'prefer', 'preliminari', 'preprint', 'preprocess', 'presenc', 'present', 'preserv', 'press', 'prevent', 'previou', 'previous', 'price', 'primal', 'primari', 'primit', 'princeton', 'princip', 'principl', 'prior', 'priori', 'privaci', 'privat', 'probabilist', 'probabl', 'proc', 'procedur', 'proceed', 'processor', 'produc', 'product', 'profil', 'program', 'progress', 'project', 'promis', 'proof', 'propag', 'proper', 'properti', 'proport', 'propos', 'proposit', 'protein', 'protocol', 'prototyp', 'provabl', 'prove', 'proven', 'provid', 'proxim', 'prune', 'ps', 'pseudo', 'psycholog', 'pt', 'public', 'publish', 'puls', 'pure', 'purpos', 'pursuit', 'px', 'pyramid', 'q', 'qi', 'qk', 'qn', 'qt', 'quadrat', 'qualit', 'qualiti', 'quantifi', 'quantit', 'quantiti', 'quantiz', 'queri', 'question', 'quickli', 'quit', 'rademach', 'radial', 'radiu', 'ran', 'random', 'randomli', 'rang', 'rank', 'rapidli', 'rare', 'rate', 'ratio', 'raw', 'rbf', 'rbm', 'rd', 'reach', 'read', 'reader', 'real', 'realist', 'realiz', 'reason', 'recal', 'receiv', 'recent', 'recept', 'recogn', 'recognit', 'recommend', 'reconstruct', 'record', 'recov', 'recoveri', 'recurr', 'recurs', 'red', 'reduc', 'reduct', 'redund', 'refin', 'reflect', 'regard', 'regim', 'region', 'regress', 'regret', 'regular', 'reinforc', 'reject', 'rel', 'relat', 'relationship', 'relax', 'relev', 'reli', 'reliabl', 'relu', 'remain', 'remark', 'remov', 'render', 'repeat', 'replac', 'replic', 'report', 'repres', 'represent', 'reproduc', 'requir', 'resampl', 'rescal', 'research', 'resembl', 'residu', 'resolut', 'resourc', 'respect', 'respond', 'respons', 'rest', 'restrict', 'retain', 'retina', 'retriev', 'return', 'reveal', 'revers', 'review', 'reward', 'rf', 'ri', 'rich', 'ridg', 'right', 'rise', 'risk', 'rj', 'rk', 'rkh', 'rl', 'rm', 'rn', 'rnn', 'robert', 'robot', 'robust', 'roc', 'role', 'root', 'rotat', 'roughli', 'round', 'rout', 'row', 'royal', 'rp', 'rs', 'rt', 'rule', 'run', 'runtim', 'sa', 'saddl', 'safe', 'salienc', 'sampl', 'sampler', 'san', 'satisfi', 'say', 'sc', 'scalabl', 'scalar', 'scale', 'scan', 'scenario', 'scene', 'sch', 'schedul', 'scheme', 'school', 'sci', 'scienc', 'scientif', 'score', 'screen', 'sd', 'se', 'search', 'sec', 'second', 'section', 'seek', 'seen', 'segment', 'sejnowski', 'select', 'self', 'semant', 'semi', 'semidefinit', 'sens', 'sensit', 'sensor', 'sensori', 'sentenc', 'separ', 'sequenc', 'sequenti', 'seri', 'serv', 'setup', 'sever', 'sgd', 'shall', 'shape', 'share', 'sharp', 'shift', 'short', 'shot', 'shown', 'shrinkag', 'si', 'siam', 'sigmoid', 'sign', 'signal', 'signific', 'significantli', 'similar', 'similarli', 'simpl', 'simpler', 'simplest', 'simplex', 'simpli', 'simplic', 'simplifi', 'simul', 'simultan', 'sin', 'sinc', 'singer', 'singh', 'singl', 'singular', 'site', 'situat', 'size', 'sj', 'sk', 'sketch', 'skill', 'slice', 'slightli', 'slow', 'slower', 'sm', 'small', 'smaller', 'smallest', 'smola', 'smooth', 'sn', 'snr', 'social', 'societi', 'soft', 'softmax', 'softwar', 'solid', 'solut', 'solv', 'solver', 'sometim', 'somewhat', 'song', 'sort', 'sound', 'sourc', 'sp', 'space', 'span', 'spars', 'sparsiti', 'spatial', 'speaker', 'special', 'specif', 'specifi', 'spectral', 'spectrum', 'speech', 'speed', 'speedup', 'sphere', 'spike', 'spline', 'split', 'spread', 'springer', 'squar', 'sr', 'ss', 'st', 'stabil', 'stabl', 'stack', 'stage', 'stand', 'standard', 'stanford', 'start', 'stat', 'state', 'statement', 'static', 'stationari', 'statist', 'step', 'stimul', 'stimuli', 'stimulu', 'stochast', 'stop', 'storag', 'store', 'straightforward', 'strategi', 'stream', 'strength', 'strictli', 'string', 'strong', 'stronger', 'strongli', 'structur', 'student', 'studi', 'style', 'sub', 'subgradi', 'subgraph', 'subject', 'submodular', 'suboptim', 'subsampl', 'subsequ', 'subset', 'subspac', 'substanti', 'substitut', 'success', 'suffer', 'suffic', 'suffici', 'suggest', 'suit', 'suitabl', 'sum', 'summar', 'summari', 'summat', 'sun', 'sup', 'super', 'superior', 'supervis', 'supplement', 'supplementari', 'support', 'suppos', 'suppress', 'sure', 'surfac', 'surpris', 'surrog', 'surround', 'survey', 'sutton', 'sv', 'svd', 'svm', 'switch', 'symbol', 'symmetr', 'symmetri', 'symposium', 'synaps', 'synapt', 'synchron', 'synthet', 'systemat', 'tabl', 'tag', 'tail', 'taken', 'tangent', 'target', 'task', 'taylor', 'td', 'teacher', 'technic', 'techniqu', 'technolog', 'temperatur', 'templat', 'tempor', 'tend', 'tensor', 'term', 'termin', 'test', 'text', 'textur', 'th', 'thank', 'themselv', 'theorem', 'theoret', 'theori', 'therebi', 'therefor', 'thesi', 'think', 'thoma', 'thought', 'threshold', 'thu', 'ti', 'tie', 'tight', 'time', 'tj', 'tk', 'tn', 'togeth', 'token', 'toler', 'tool', 'topic', 'topolog', 'total', 'tp', 'tr', 'trace', 'track', 'tractabl', 'trade', 'tradeoff', 'tradit', 'train', 'trajectori', 'tran', 'transact', 'transduct', 'transfer', 'transform', 'transit', 'translat', 'treat', 'treatment', 'tree', 'trend', 'tri', 'trial', 'triangl', 'trick', 'triplet', 'trivial', 'true', 'truncat', 'truth', 'ts', 'tt', 'tune', 'turn', 'type', 'typic', 'u', 'uai', 'ucb', 'uci', 'ui', 'uj', 'uk', 'unbias', 'uncertainti', 'unconstrain', 'underli', 'understand', 'understood', 'undirect', 'unfortun', 'unifi', 'uniform', 'uniformli', 'union', 'uniqu', 'unit', 'univers', 'unknown', 'unlabel', 'unless', 'unlik', 'unsupervis', 'updat', 'upper', 'usa', 'user', 'usual', 'ut', 'util', 'v', 'valid', 'van', 'vanish', 'vapnik', 'var', 'vari', 'variabl', 'varianc', 'variant', 'variat', 'varieti', 'variou', 'vb', 'vc', 've', 'vec', 'vector', 'veloc', 'veri', 'verifi', 'verlag', 'version', 'versu', 'vertex', 'vertic', 'vi', 'video', 'view', 'violat', 'virtual', 'visibl', 'vision', 'visit', 'visual', 'vj', 'vk', 'vlsi', 'vn', 'vocabulari', 'vol', 'voltag', 'volum', 'vote', 'voxel', 'vs', 'vt', 'w', 'wa', 'wainwright', 'walk', 'wang', 'want', 'waveform', 'wavelet', 'way', 'weak', 'weakli', 'web', 'weight', 'whenev', 'wherea', 'whi', 'white', 'wi', 'wide', 'width', 'wij', 'wiley', 'william', 'win', 'window', 'winner', 'wise', 'wish', 'wj', 'wk', 'wn', 'word', 'work', 'worker', 'workshop', 'world', 'wors', 'worst', 'write', 'written', 'wt', 'wu', 'www', 'xa', 'xd', 'xi', 'xj', 'xk', 'xl', 'xm', 'xn', 'xr', 'xs', 'xt', 'xu', 'xx', 'y', 'yang', 'ye', 'year', 'yi', 'yield', 'yj', 'yk', 'yn', 'york', 'yt', 'yu', 'z', 'zero', 'zhang', 'zhou', 'zhu', 'zi', 'zj', 'zk', 'zn', 'zt']\n"
     ]
    }
   ],
   "source": [
    "print(count_vectorizer.get_feature_names())"
   ]
  }
 ],
 "metadata": {
  "kernelspec": {
   "display_name": "Python 3",
   "language": "python",
   "name": "python3"
  },
  "language_info": {
   "codemirror_mode": {
    "name": "ipython",
    "version": 3
   },
   "file_extension": ".py",
   "mimetype": "text/x-python",
   "name": "python",
   "nbconvert_exporter": "python",
   "pygments_lexer": "ipython3",
   "version": "3.6.5"
  }
 },
 "nbformat": 4,
 "nbformat_minor": 2
}
